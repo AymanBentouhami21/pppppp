{
 "cells": [
  {
   "cell_type": "code",
   "execution_count": 7,
   "metadata": {},
   "outputs": [],
   "source": [
    "import requests\n",
    "import os\n",
    "import json\n",
    "import time\n",
    "import sys"
   ]
  },
  {
   "cell_type": "markdown",
   "metadata": {},
   "source": [
    "# LOAD standings"
   ]
  },
  {
   "cell_type": "code",
   "execution_count": 93,
   "metadata": {},
   "outputs": [],
   "source": [
    "def get_standings():\n",
    "\turl = \"https://api-football-v1.p.rapidapi.com/v3/standings\"\n",
    "\n",
    "\tquerystring = {\"season\":\"2023\",\"league\":\"39\"}\n",
    "\n",
    "\theaders = {\n",
    "\t\t\"X-RapidAPI-Key\": \"43d0d0faffmshd10d0520e2083d7p1549c1jsn0fc1c6ce090f\",\n",
    "\t\t\"X-RapidAPI-Host\": \"api-football-v1.p.rapidapi.com\"\n",
    "\t}\n",
    "\n",
    "\tresponse = requests.get(url, headers=headers, params=querystring)\n",
    "\n",
    "\treturn response"
   ]
  },
  {
   "cell_type": "code",
   "execution_count": 94,
   "metadata": {},
   "outputs": [],
   "source": [
    "dir_path = os.path.join(os.getcwd(), 'data','standings')\n",
    "\n",
    "# Check if the directory exists, if not, create it\n",
    "if not os.path.exists(dir_path):\n",
    "    os.makedirs(dir_path)\n",
    "\n",
    "# Now you can write to the file\n",
    "file_path = os.path.join(dir_path, 'standings_v1.json')\n",
    "with open(file_path, 'w') as file:\n",
    "    response= get_standings()\n",
    "    json.dump(response.json(),file, indent=4)\n"
   ]
  },
  {
   "cell_type": "markdown",
   "metadata": {},
   "source": [
    "# LOAD Team Stats"
   ]
  },
  {
   "cell_type": "markdown",
   "metadata": {},
   "source": [
    "**retrieve team ID's**"
   ]
  },
  {
   "cell_type": "code",
   "execution_count": 5,
   "metadata": {},
   "outputs": [],
   "source": [
    "def get_team_stats(id):\n",
    "\n",
    "    url = \"https://api-football-v1.p.rapidapi.com/v3/teams/statistics\"\n",
    "\n",
    "    querystring = {\"league\":\"39\",\"season\":\"2023\",\"team\":str(id)}\n",
    "\n",
    "    headers = {\n",
    "        \"X-RapidAPI-Key\": \"43d0d0faffmshd10d0520e2083d7p1549c1jsn0fc1c6ce090f\",\n",
    "        \"X-RapidAPI-Host\": \"api-football-v1.p.rapidapi.com\"\n",
    "    }\n",
    "\n",
    "    response = requests.get(url, headers=headers, params=querystring)\n",
    "\n",
    "    return response.json()"
   ]
  },
  {
   "cell_type": "code",
   "execution_count": null,
   "metadata": {},
   "outputs": [],
   "source": [
    "id_list = []\n",
    "with open(r'C:\\Users\\admin\\Documents\\Personal Work\\Projects\\Footbal Project\\TRY 2\\data\\standings\\standings.json','r') as file: \n",
    "    data = json.load(file)\n",
    "    desired_data = data['response'][0]['league']['standings'][0]\n",
    "\n",
    "for el in desired_data:\n",
    "    id_list.append(el['team']['id'])\n",
    "    \n",
    "\n",
    "    \n",
    "len(id_list)"
   ]
  },
  {
   "cell_type": "code",
   "execution_count": 97,
   "metadata": {},
   "outputs": [],
   "source": [
    "dir_path = os.path.join(os.getcwd(),'data','team_stats')\n",
    "if not os.path.exists(dir_path):\n",
    "    os.makedirs(dir_path)\n",
    "for id in id_list:\n",
    "    json_data = get_team_stats(id)\n",
    "    team_name = json_data['response']['team']['name']\n",
    "    file_name = f'{team_name}.json'\n",
    "    file_path = os.path.join(dir_path,file_name)\n",
    "    with open(file_path,'w') as file:\n",
    "        json.dump(json_data,file,indent=4)"
   ]
  },
  {
   "cell_type": "markdown",
   "metadata": {},
   "source": [
    "# LOAD Historical head2head"
   ]
  },
  {
   "cell_type": "code",
   "execution_count": 140,
   "metadata": {},
   "outputs": [],
   "source": [
    "def request_historical_fixtures():\n",
    "    dir_path = os.path.join(os.getcwd(),'data','seasons','season_v1')\n",
    "    if not os.path.exists(dir_path):\n",
    "        os.makedirs(dir_path)\n",
    "\n",
    "    season_range = list(range(2010,2024))\n",
    "    url = \"https://api-football-v1.p.rapidapi.com/v3/fixtures\"\n",
    "    headers = {\n",
    "            \"X-RapidAPI-Key\": \"43d0d0faffmshd10d0520e2083d7p1549c1jsn0fc1c6ce090f\",\n",
    "            \"X-RapidAPI-Host\": \"api-football-v1.p.rapidapi.com\"\n",
    "        }\n",
    "\n",
    "    for season in season_range:\n",
    "        if season == 2018:\n",
    "            time.sleep(61)\n",
    "        querystring = {\"league\":\"39\",\"season\":str(season)}\n",
    "        response = requests.get(url, headers=headers, params=querystring)\n",
    "        file_path = os.path.join(dir_path,f'{season}.json')\n",
    "        with open(file_path,'w') as file:\n",
    "            json.dump(response.json(),file,indent=4)\n",
    "        \n",
    "\n",
    "        "
   ]
  },
  {
   "cell_type": "code",
   "execution_count": 99,
   "metadata": {},
   "outputs": [],
   "source": [
    "request_historical_fixtures()"
   ]
  },
  {
   "cell_type": "code",
   "execution_count": 100,
   "metadata": {},
   "outputs": [
    {
     "data": {
      "text/plain": [
       "'\\nseason_range = list(range(2011,2024))\\nid_list2 = id_list.copy()\\nh2h_fixtures = []\\nfor x in id_list:\\n    id_list2.pop(0)\\n    for y in id_list2:\\n        if x != y:\\n            h2h_fixtures.append(tuple([x,y]))\\n            '"
      ]
     },
     "execution_count": 100,
     "metadata": {},
     "output_type": "execute_result"
    }
   ],
   "source": [
    "'''\n",
    "season_range = list(range(2011,2024))\n",
    "id_list2 = id_list.copy()\n",
    "h2h_fixtures = []\n",
    "for x in id_list:\n",
    "    id_list2.pop(0)\n",
    "    for y in id_list2:\n",
    "        if x != y:\n",
    "            h2h_fixtures.append(tuple([x,y]))\n",
    "            '''\n",
    "            "
   ]
  },
  {
   "cell_type": "markdown",
   "metadata": {},
   "source": [
    "# Handle Season data\n",
    "\n"
   ]
  },
  {
   "cell_type": "markdown",
   "metadata": {},
   "source": [
    "## Remove teams that dont exist"
   ]
  },
  {
   "cell_type": "code",
   "execution_count": 95,
   "metadata": {},
   "outputs": [
    {
     "data": {
      "text/plain": [
       "20"
      ]
     },
     "execution_count": 95,
     "metadata": {},
     "output_type": "execute_result"
    }
   ],
   "source": [
    "id_list = []\n",
    "with open(r'C:\\Users\\admin\\Documents\\Personal Work\\Projects\\Footbal Project\\TRY 2\\data\\standings\\standings.json','r') as file: \n",
    "    data = json.load(file)\n",
    "    desired_data = data['response'][0]['league']['standings'][0]\n",
    "\n",
    "for el in desired_data:\n",
    "    id_list.append(el['team']['id'])\n",
    "    \n",
    "\n",
    "    \n",
    "len(id_list)"
   ]
  },
  {
   "cell_type": "code",
   "execution_count": 142,
   "metadata": {},
   "outputs": [
    {
     "name": "stdout",
     "output_type": "stream",
     "text": [
      "2010.json\n"
     ]
    },
    {
     "name": "stdout",
     "output_type": "stream",
     "text": [
      "2011.json\n",
      "2012.json\n",
      "2013.json\n",
      "2014.json\n",
      "2015.json\n",
      "2016.json\n",
      "2017.json\n",
      "2018.json\n",
      "2019.json\n",
      "2020.json\n",
      "2021.json\n",
      "2022.json\n",
      "2023.json\n"
     ]
    }
   ],
   "source": [
    "def remove_unwanted_fixtures():\n",
    "    dir_path = r'C:\\Users\\admin\\Documents\\Personal Work\\Projects\\Footbal Project\\TRY 2\\data\\seasons\\season_v1'\n",
    "    dir_path_v2 = r'C:\\Users\\admin\\Documents\\Personal Work\\Projects\\Footbal Project\\TRY 2\\data\\seasons\\seasons_v2'\n",
    "\n",
    "    if not os.path.exists(dir_path):\n",
    "        os.makedirs(dir_path)\n",
    "    if not os.path.exists(dir_path_v2):\n",
    "        os.makedirs(dir_path_v2)\n",
    "\n",
    "    for file_name in os.listdir(dir_path):\n",
    "        file_path = os.path.join(dir_path,file_name)\n",
    "        \n",
    "        with open(os.path.join(file_path),'r') as file:\n",
    "\n",
    "            data = json.load(file)\n",
    "            try:\n",
    "                data = data['response']\n",
    "            except KeyError:\n",
    "                print(file_name)\n",
    "                print(data)\n",
    "            new_data = [] \n",
    "            print(file_name)\n",
    "            #i = 0\n",
    "            for response in data:\n",
    "                #i = i+1\n",
    "                #print(i)\n",
    "                if (response['teams']['home']['id'] in id_list and response['teams']['away']['id'] in id_list) and (response['fixture']['status']['short'] == 'FT'):\n",
    "                    new_data.append(response)\n",
    "\n",
    "                file_path_v2 = os.path.join(dir_path_v2,file_name)\n",
    "\n",
    "                with open(file_path_v2,'w') as file:\n",
    "                    json.dump(new_data, file,indent=4)\n",
    "remove_unwanted_fixtures()"
   ]
  },
  {
   "cell_type": "code",
   "execution_count": 148,
   "metadata": {},
   "outputs": [],
   "source": [
    "def flatten_and_select():\n",
    "    dir_path = r'C:\\Users\\admin\\Documents\\Personal Work\\Projects\\Footbal Project\\TRY 2\\data\\seasons\\season_v1'\n",
    "    dir_path_v2 = r'C:\\Users\\admin\\Documents\\Personal Work\\Projects\\Footbal Project\\TRY 2\\data\\seasons\\seasons_v2'\n",
    "    dir_path_v3 = r'C:\\Users\\admin\\Documents\\Personal Work\\Projects\\Footbal Project\\TRY 2\\data\\seasons\\seasons_v3'\n",
    "\n",
    "    if not os.path.exists(dir_path):\n",
    "        os.makedirs(dir_path)\n",
    "    if not os.path.exists(dir_path_v2):\n",
    "        os.makedirs(dir_path_v2)\n",
    "    if not os.path.exists(dir_path_v3):\n",
    "        os.makedirs(dir_path_v3)\n",
    "     \n",
    "\n",
    "    for file_name in os.listdir(dir_path_v2):\n",
    "        file_path_v2 = os.path.join(dir_path_v2,file_name)\n",
    "        file_path_v3 = os.path.join(dir_path_v3,file_name)\n",
    "        with open(os.path.join(file_path_v2),'r') as file:\n",
    "            data = json.load(file)\n",
    "            new_data = []\n",
    "            for fix in data:\n",
    "                new_dict = {}\n",
    "                new_dict['fixture_id'] = fix['fixture']['id']\n",
    "                new_dict['date'] = fix['fixture']['date']\n",
    "                new_dict['home_team_name'] = fix['teams']['home']['name']\n",
    "                new_dict['home_team_id'] = fix['teams']['home']['id']\n",
    "                new_dict['away_team_name'] = fix['teams']['away']['name']\n",
    "                new_dict['away_team_id'] = fix['teams']['away']['id']\n",
    "                new_dict['home_team_winner'] = fix['teams']['home']['winner']\n",
    "                new_dict['away_team_winner'] = fix['teams']['away']['winner']\n",
    "                new_dict['score_fulltime_home'] = fix['goals']['home']\n",
    "                new_dict['score_fulltime_away'] = fix['goals']['away']\n",
    "\n",
    "                new_data.append(new_dict)\n",
    "            \n",
    "\n",
    "            with open(file_path_v3,'w') as file:\n",
    "                json.dump(new_data,file,indent=4)\n",
    "\n",
    "flatten_and_select()"
   ]
  },
  {
   "cell_type": "code",
   "execution_count": null,
   "metadata": {},
   "outputs": [],
   "source": []
  }
 ],
 "metadata": {
  "kernelspec": {
   "display_name": "Python 3",
   "language": "python",
   "name": "python3"
  },
  "language_info": {
   "codemirror_mode": {
    "name": "ipython",
    "version": 3
   },
   "file_extension": ".py",
   "mimetype": "text/x-python",
   "name": "python",
   "nbconvert_exporter": "python",
   "pygments_lexer": "ipython3",
   "version": "3.10.13"
  }
 },
 "nbformat": 4,
 "nbformat_minor": 2
}
