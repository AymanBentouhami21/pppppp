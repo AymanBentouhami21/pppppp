{
 "cells": [
  {
   "cell_type": "code",
   "execution_count": 4,
   "metadata": {},
   "outputs": [],
   "source": [
    "import requests\n",
    "import os\n",
    "import json\n",
    "import time\n"
   ]
  },
  {
   "cell_type": "markdown",
   "metadata": {},
   "source": [
    "# Handle Season data\n"
   ]
  },
  {
   "cell_type": "markdown",
   "metadata": {},
   "source": [
    "## Remove unwanted fixtures\n"
   ]
  },
  {
   "cell_type": "code",
   "execution_count": null,
   "metadata": {},
   "outputs": [
    {
     "ename": "",
     "evalue": "",
     "output_type": "error",
     "traceback": [
      "\u001b[1;31mRunning cells with 'c:\\Users\\admin\\Documents\\Personal Work\\Projects\\Footbal Project\\TRY 2\\.conda\\python.exe' requires the ipykernel package.\n",
      "\u001b[1;31mRun the following command to install 'ipykernel' into the Python environment. \n",
      "\u001b[1;31mCommand: 'conda install -p c:\\Users\\admin\\Documents\\Personal Work\\Projects\\Footbal Project\\TRY 2\\.conda ipykernel --update-deps --force-reinstall'"
     ]
    }
   ],
   "source": [
    "id_list = []\n",
    "with open(r'C:\\Users\\admin\\Documents\\Personal Work\\Projects\\Footbal Project\\TRY 2\\data\\standings.json','r') as file: \n",
    "    data = json.load(file)\n",
    "    desired_data = data['response'][0]['league']['standings'][0]\n",
    "\n",
    "for el in desired_data:\n",
    "    id_list.append(el['team']['id'])\n",
    "    \n",
    "len(id_list)"
   ]
  },
  {
   "cell_type": "code",
   "execution_count": null,
   "metadata": {},
   "outputs": [
    {
     "ename": "",
     "evalue": "",
     "output_type": "error",
     "traceback": [
      "\u001b[1;31mRunning cells with 'c:\\Users\\admin\\Documents\\Personal Work\\Projects\\Footbal Project\\TRY 2\\.conda\\python.exe' requires the ipykernel package.\n",
      "\u001b[1;31mRun the following command to install 'ipykernel' into the Python environment. \n",
      "\u001b[1;31mCommand: 'conda install -p c:\\Users\\admin\\Documents\\Personal Work\\Projects\\Footbal Project\\TRY 2\\.conda ipykernel --update-deps --force-reinstall'"
     ]
    }
   ],
   "source": [
    "#unwanted fixtures are those where one or both teams dosnt exist in teh current premier league stnadings(relegations), the match didnt finish\n",
    "\n",
    "def remove_unwanted_fixtures():\n",
    "    dir_path = r'C:\\Users\\admin\\Documents\\Personal Work\\Projects\\Footbal Project\\TRY 2\\data\\seasons'\n",
    "    dir_path_v2 = r'C:\\Users\\admin\\Documents\\Personal Work\\Projects\\Footbal Project\\TRY 2\\data\\seasons_v2'\n",
    "\n",
    "    if not os.path.exists(dir_path):\n",
    "        os.makedirs(dir_path)\n",
    "    if not os.path.exists(dir_path_v2):\n",
    "        os.makedirs(dir_path_v2)\n",
    "\n",
    "    for file_name in os.listdir(dir_path):\n",
    "        file_path = os.path.join(dir_path,file_name)\n",
    "        \n",
    "        with open(os.path.join(file_path),'r') as file:\n",
    "\n",
    "            data = json.load(file)\n",
    "            try:\n",
    "                data = data['response']\n",
    "            except KeyError:\n",
    "                print(file_name)\n",
    "                print(data)\n",
    "            new_data = [] \n",
    "            print(file_name)\n",
    "            #i = 0\n",
    "            for response in data:\n",
    "                #i = i+1\n",
    "                #print(i)\n",
    "                if (response['teams']['home']['id'] in id_list and response['teams']['away']['id'] in id_list) and (response['fixture']['status']['short'] == 'FT'):\n",
    "                    new_data.append(response)\n",
    "\n",
    "                file_path_v2 = os.path.join(dir_path_v2,file_name)\n",
    "\n",
    "                with open(file_path_v2,'w') as file:\n",
    "                    json.dump(new_data, file,indent=4)\n",
    "remove_unwanted_fixtures()\n"
   ]
  },
  {
   "cell_type": "code",
   "execution_count": null,
   "metadata": {},
   "outputs": [
    {
     "ename": "",
     "evalue": "",
     "output_type": "error",
     "traceback": [
      "\u001b[1;31mRunning cells with 'c:\\Users\\admin\\Documents\\Personal Work\\Projects\\Footbal Project\\TRY 2\\.conda\\python.exe' requires the ipykernel package.\n",
      "\u001b[1;31mRun the following command to install 'ipykernel' into the Python environment. \n",
      "\u001b[1;31mCommand: 'conda install -p c:\\Users\\admin\\Documents\\Personal Work\\Projects\\Footbal Project\\TRY 2\\.conda ipykernel --update-deps --force-reinstall'"
     ]
    }
   ],
   "source": [
    "\n",
    "def flatten_and_select():\n",
    "    dir_path = r'C:\\Users\\admin\\Documents\\Personal Work\\Projects\\Footbal Project\\TRY 2\\data\\seasons'\n",
    "    dir_path_v2 = r'C:\\Users\\admin\\Documents\\Personal Work\\Projects\\Footbal Project\\TRY 2\\data\\seasons_v2'\n",
    "    dir_path_v3 = r'C:\\Users\\admin\\Documents\\Personal Work\\Projects\\Footbal Project\\TRY 2\\data\\seasons_v3'\n",
    "\n",
    "    if not os.path.exists(dir_path):\n",
    "        os.makedirs(dir_path)\n",
    "    if not os.path.exists(dir_path_v2):\n",
    "        os.makedirs(dir_path_v2)\n",
    "    if not os.path.exists(dir_path_v3):\n",
    "        os.makedirs(dir_path_v3)\n",
    "     \n",
    "\n",
    "    for file_name in os.listdir(dir_path_v2):\n",
    "        file_path_v2 = os.path.join(dir_path_v2,file_name)\n",
    "        file_path_v3 = os.path.join(dir_path_v3,file_name)\n",
    "        with open(os.path.join(file_path_v2),'r') as file:\n",
    "            data = json.load(file)\n",
    "            new_data = []\n",
    "            for fix in data:\n",
    "                new_dict = {}\n",
    "                new_dict['fixture_id'] = fix['fixture']['id']\n",
    "                new_dict['date'] = fix['fixture']['date']\n",
    "                new_dict['home_team_name'] = fix['teams']['home']['name']\n",
    "                new_dict['home_team_id'] = fix['teams']['home']['id']\n",
    "                new_dict['away_team_name'] = fix['teams']['away']['name']\n",
    "                new_dict['away_team_id'] = fix['teams']['away']['id']\n",
    "                new_dict['home_team_winner'] = fix['teams']['home']['winner']\n",
    "                new_dict['away_team_winner'] = fix['teams']['away']['winner']\n",
    "                new_dict['score_fulltime_home'] = fix['goals']['home']\n",
    "                new_dict['score_fulltime_away'] = fix['goals']['away']\n",
    "\n",
    "                new_data.append(new_dict)\n",
    "            \n",
    "\n",
    "            with open(file_path_v3,'w') as file:\n",
    "                json.dump(new_data,file,indent=4)\n",
    "\n",
    "flatten_and_select()\n"
   ]
  },
  {
   "cell_type": "markdown",
   "metadata": {},
   "source": [
    "# Handle Team data"
   ]
  },
  {
   "cell_type": "code",
   "execution_count": 5,
   "metadata": {},
   "outputs": [],
   "source": [
    "def flatten_dict(dict_data,sep='_',parent_key=''):\n",
    "    list_dict = []\n",
    "    for k,v in dict_data.items():\n",
    "        new_key = parent_key+sep+k if parent_key else k\n",
    "        if isinstance(v,dict):\n",
    "            list_dict.extend(flatten_dict(v,sep,parent_key=new_key))\n",
    "        else:\n",
    "            list_dict.append((new_key,v))\n",
    "            print(list)\n",
    "    return dict(list_dict)    "
   ]
  },
  {
   "cell_type": "code",
   "execution_count": 20,
   "metadata": {},
   "outputs": [],
   "source": [
    "def flatten_dict(dict_data, sep='_', parent_key=''):\n",
    "    list_dict = []\n",
    "    for k, v in dict_data.items():\n",
    "        new_key = parent_key + sep + k if parent_key else k\n",
    "        if isinstance(v, dict):\n",
    "            list_dict.extend(flatten_dict(v, sep, new_key).items())\n",
    "        else:\n",
    "            list_dict.append((new_key, v))\n",
    "    return dict(list_dict)\n"
   ]
  },
  {
   "cell_type": "code",
   "execution_count": 25,
   "metadata": {},
   "outputs": [],
   "source": [
    "team_dir_v1 = r'C:\\Users\\admin\\Documents\\Personal Work\\Projects\\Footbal Project\\TRY 2\\data\\team_stats\\team_stats_v1'\n",
    "team_dir_v2 = r'C:\\Users\\admin\\Documents\\Personal Work\\Projects\\Footbal Project\\TRY 2\\data\\team_stats\\team_stats_v2'\n",
    "\n",
    "if not os.path.exists(team_dir_v2):\n",
    "    os.makedirs(team_dir_v2)\n",
    "\n",
    "for file_name in os.listdir(team_dir_v1):\n",
    "    file_path = os.path.join(team_dir_v1,file_name)\n",
    "    with open(file_path,'r') as file:\n",
    "        data = json.load(file)\n",
    "        data = dict(data)\n",
    "        new_data = flatten_dict(data)\n",
    "        file_path_v2 = os.path.join(team_dir_v2,file_name)\n",
    "        with open(file_path_v2,'w') as file:\n",
    "            json.dump(new_data,file,indent=4)\n",
    "    "
   ]
  },
  {
   "cell_type": "code",
   "execution_count": 30,
   "metadata": {},
   "outputs": [],
   "source": [
    "def select_keys(dict_data):\n",
    "    key_words = ['team_id','team_name','goal','fixtures','wins','draws','loses','clean_sheet','score']\n",
    "    new_dict = {}\n",
    "    for k,v in dict_data.items():\n",
    "        for word in key_words:\n",
    "            if word in str(k):\n",
    "                new_dict[k] = v\n",
    "    return new_dict"
   ]
  },
  {
   "cell_type": "code",
   "execution_count": 32,
   "metadata": {},
   "outputs": [],
   "source": [
    "team_dir_v3 = r'C:\\Users\\admin\\Documents\\Personal Work\\Projects\\Footbal Project\\TRY 2\\data\\team_stats\\team_stats_v3'\n",
    "if not os.path.exists(team_dir_v3):\n",
    "    os.makedirs(team_dir_v3)\n",
    "for file_name in os.listdir(team_dir_v2):\n",
    "    file_path_v3 = os.path.join(team_dir_v3,file_name)\n",
    "    file_path_v2 = os.path.join(team_dir_v2,file_name)\n",
    "    with open(file_path_v2,'r') as file:\n",
    "        data = json.load(file)\n",
    "        new_data = select_keys(data)\n",
    "        with open(file_path_v3,'w') as file:\n",
    "            json.dump(new_data,file,indent=4)"
   ]
  },
  {
   "cell_type": "markdown",
   "metadata": {},
   "source": [
    "# Handle Standings"
   ]
  },
  {
   "cell_type": "code",
   "execution_count": 54,
   "metadata": {},
   "outputs": [],
   "source": [
    "# flatten dict already exists, we will ahve towork wiht a differnet one\n",
    "standings_folder_path_v1 = r'C:\\Users\\admin\\Documents\\Personal Work\\Projects\\Footbal Project\\TRY 2\\data\\standings'\n",
    "if not os.path.exists(standings_folder_path_v1):\n",
    "    os.makedirs(standings_folder_path_v1)\n",
    "standings_file_path_v1 = os.path.join(standings_folder_path_v1,'standings_v1.json')\n",
    "\n",
    "standings_folder_path_v2 = r'C:\\Users\\admin\\Documents\\Personal Work\\Projects\\Footbal Project\\TRY 2\\data\\standings'\n",
    "if not os.path.exists(standings_folder_path_v2):\n",
    "    os.makedirs(standings_folder_path_v2)\n",
    "standings_file_path_v2 = os.path.join(standings_folder_path_v2,'standings_v2.json')\n",
    "\n",
    "with open(standings_file_path_v1,'r') as file:\n",
    "    data = json.load(file)\n",
    "    data = data['response'][0]['league']['standings'][0]\n",
    "    new_data = []\n",
    "    for el in data:\n",
    "        new_el = flatten_dict(el)\n",
    "        new_data.append(new_el)\n",
    "    with open(standings_file_path_v2,'w') as file:\n",
    "        json.dump(new_data,file,indent=4)"
   ]
  },
  {
   "cell_type": "code",
   "execution_count": null,
   "metadata": {},
   "outputs": [],
   "source": []
  }
 ],
 "metadata": {
  "kernelspec": {
   "display_name": "Python 3",
   "language": "python",
   "name": "python3"
  },
  "language_info": {
   "codemirror_mode": {
    "name": "ipython",
    "version": 3
   },
   "file_extension": ".py",
   "mimetype": "text/x-python",
   "name": "python",
   "nbconvert_exporter": "python",
   "pygments_lexer": "ipython3",
   "version": "3.10.13"
  }
 },
 "nbformat": 4,
 "nbformat_minor": 2
}
